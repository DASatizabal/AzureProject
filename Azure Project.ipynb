{
    "metadata": {
        "kernelspec": {
            "name": "SQL",
            "display_name": "SQL",
            "language": "sql"
        },
        "language_info": {
            "name": "sql",
            "version": ""
        }
    },
    "nbformat_minor": 2,
    "nbformat": 4,
    "cells": [
        {
            "cell_type": "markdown",
            "source": [
                "# **Florida Medicaid Members from May 2014 to May 2023**"
            ],
            "metadata": {
                "azdata_cell_guid": "7a2b34d0-5efd-48d9-8b2c-3801a34d4913"
            },
            "attachments": {}
        },
        {
            "cell_type": "code",
            "source": [
                "Select [Date], sum(member_count) as Overall_Memebers from Membership group by [Date] order by [date]"
            ],
            "metadata": {
                "azdata_cell_guid": "61058c44-c237-4d2f-8bf7-17f8ac60451d",
                "language": "sql",
                "tags": []
            },
            "outputs": [
                {
                    "output_type": "display_data",
                    "data": {
                        "text/html": "(109 rows affected)"
                    },
                    "metadata": {}
                },
                {
                    "output_type": "display_data",
                    "data": {
                        "text/html": "Total execution time: 00:00:00.005"
                    },
                    "metadata": {}
                },
                {
                    "output_type": "execute_result",
                    "metadata": {
                        "azdata_chartOptions": {
                            "type": "line",
                            "dataDirection": "vertical",
                            "columnsAsLabels": true,
                            "labelFirstColumn": false,
                            "legendPosition": "top",
                            "dataType": "number"
                        }
                    },
                    "execution_count": 25,
                    "data": {
                        "application/vnd.dataresource+json": {
                            "schema": {
                                "fields": [
                                    {
                                        "name": "Date"
                                    },
                                    {
                                        "name": "Overall_Memebers"
                                    }
                                ]
                            },
                            "data": [
                                {
                                    "Date": "2014-05-01",
                                    "Overall_Memebers": "553654"
                                },
                                {
                                    "Date": "2014-06-01",
                                    "Overall_Memebers": "1241131"
                                },
                                {
                                    "Date": "2014-07-01",
                                    "Overall_Memebers": "1897498"
                                },
                                {
                                    "Date": "2014-08-01",
                                    "Overall_Memebers": "2511781"
                                },
                                {
                                    "Date": "2014-09-01",
                                    "Overall_Memebers": "2549849"
                                },
                                {
                                    "Date": "2014-10-01",
                                    "Overall_Memebers": "2584572"
                                },
                                {
                                    "Date": "2014-11-01",
                                    "Overall_Memebers": "2605577"
                                },
                                {
                                    "Date": "2014-12-01",
                                    "Overall_Memebers": "2647421"
                                },
                                {
                                    "Date": "2015-01-01",
                                    "Overall_Memebers": "2705799"
                                },
                                {
                                    "Date": "2015-02-01",
                                    "Overall_Memebers": "2741220"
                                },
                                {
                                    "Date": "2015-03-01",
                                    "Overall_Memebers": "2777648"
                                },
                                {
                                    "Date": "2015-04-01",
                                    "Overall_Memebers": "2794301"
                                },
                                {
                                    "Date": "2015-05-01",
                                    "Overall_Memebers": "2812991"
                                },
                                {
                                    "Date": "2015-06-01",
                                    "Overall_Memebers": "2837599"
                                },
                                {
                                    "Date": "2015-07-01",
                                    "Overall_Memebers": "2848148"
                                },
                                {
                                    "Date": "2015-08-01",
                                    "Overall_Memebers": "2905267"
                                },
                                {
                                    "Date": "2015-09-01",
                                    "Overall_Memebers": "2932366"
                                },
                                {
                                    "Date": "2015-10-01",
                                    "Overall_Memebers": "2934211"
                                },
                                {
                                    "Date": "2015-11-01",
                                    "Overall_Memebers": "2953982"
                                },
                                {
                                    "Date": "2015-12-01",
                                    "Overall_Memebers": "2958416"
                                },
                                {
                                    "Date": "2016-01-01",
                                    "Overall_Memebers": "2956843"
                                },
                                {
                                    "Date": "2016-02-01",
                                    "Overall_Memebers": "3008367"
                                },
                                {
                                    "Date": "2016-03-01",
                                    "Overall_Memebers": "3015186"
                                },
                                {
                                    "Date": "2016-04-01",
                                    "Overall_Memebers": "3012140"
                                },
                                {
                                    "Date": "2016-05-01",
                                    "Overall_Memebers": "3027859"
                                },
                                {
                                    "Date": "2016-06-01",
                                    "Overall_Memebers": "3038489"
                                },
                                {
                                    "Date": "2016-07-01",
                                    "Overall_Memebers": "3034719"
                                },
                                {
                                    "Date": "2016-08-01",
                                    "Overall_Memebers": "3064639"
                                },
                                {
                                    "Date": "2016-09-01",
                                    "Overall_Memebers": "3056190"
                                },
                                {
                                    "Date": "2016-10-01",
                                    "Overall_Memebers": "3060005"
                                },
                                {
                                    "Date": "2016-11-01",
                                    "Overall_Memebers": "3077246"
                                },
                                {
                                    "Date": "2016-12-01",
                                    "Overall_Memebers": "3075270"
                                },
                                {
                                    "Date": "2017-01-01",
                                    "Overall_Memebers": "3092585"
                                },
                                {
                                    "Date": "2017-02-01",
                                    "Overall_Memebers": "3085322"
                                },
                                {
                                    "Date": "2017-03-01",
                                    "Overall_Memebers": "3071659"
                                },
                                {
                                    "Date": "2017-04-01",
                                    "Overall_Memebers": "3049477"
                                },
                                {
                                    "Date": "2017-05-01",
                                    "Overall_Memebers": "3055670"
                                },
                                {
                                    "Date": "2017-06-01",
                                    "Overall_Memebers": "3035430"
                                },
                                {
                                    "Date": "2017-07-01",
                                    "Overall_Memebers": "3021387"
                                },
                                {
                                    "Date": "2017-08-01",
                                    "Overall_Memebers": "2986385"
                                },
                                {
                                    "Date": "2017-09-01",
                                    "Overall_Memebers": "2971117"
                                },
                                {
                                    "Date": "2017-10-01",
                                    "Overall_Memebers": "2987191"
                                },
                                {
                                    "Date": "2017-11-01",
                                    "Overall_Memebers": "2944047"
                                },
                                {
                                    "Date": "2017-12-01",
                                    "Overall_Memebers": "2940820"
                                },
                                {
                                    "Date": "2018-01-01",
                                    "Overall_Memebers": "2930457"
                                },
                                {
                                    "Date": "2018-02-01",
                                    "Overall_Memebers": "2923060"
                                },
                                {
                                    "Date": "2018-03-01",
                                    "Overall_Memebers": "2901601"
                                },
                                {
                                    "Date": "2018-04-01",
                                    "Overall_Memebers": "2893607"
                                },
                                {
                                    "Date": "2018-05-01",
                                    "Overall_Memebers": "2844479"
                                },
                                {
                                    "Date": "2018-06-01",
                                    "Overall_Memebers": "2899130"
                                },
                                {
                                    "Date": "2018-07-01",
                                    "Overall_Memebers": "2895869"
                                },
                                {
                                    "Date": "2018-08-01",
                                    "Overall_Memebers": "2895009"
                                },
                                {
                                    "Date": "2018-09-01",
                                    "Overall_Memebers": "2888249"
                                },
                                {
                                    "Date": "2018-10-01",
                                    "Overall_Memebers": "2887479"
                                },
                                {
                                    "Date": "2018-11-01",
                                    "Overall_Memebers": "2857533"
                                },
                                {
                                    "Date": "2018-12-01",
                                    "Overall_Memebers": "2865747"
                                },
                                {
                                    "Date": "2019-01-01",
                                    "Overall_Memebers": "2815657"
                                },
                                {
                                    "Date": "2019-02-01",
                                    "Overall_Memebers": "2788128"
                                },
                                {
                                    "Date": "2019-03-01",
                                    "Overall_Memebers": "2776844"
                                },
                                {
                                    "Date": "2019-04-01",
                                    "Overall_Memebers": "2774223"
                                },
                                {
                                    "Date": "2019-05-01",
                                    "Overall_Memebers": "2767565"
                                },
                                {
                                    "Date": "2019-06-01",
                                    "Overall_Memebers": "2764492"
                                },
                                {
                                    "Date": "2019-07-01",
                                    "Overall_Memebers": "2767248"
                                },
                                {
                                    "Date": "2019-08-01",
                                    "Overall_Memebers": "2762586"
                                },
                                {
                                    "Date": "2019-09-01",
                                    "Overall_Memebers": "2751311"
                                },
                                {
                                    "Date": "2019-10-01",
                                    "Overall_Memebers": "2746976"
                                },
                                {
                                    "Date": "2019-11-01",
                                    "Overall_Memebers": "2731974"
                                },
                                {
                                    "Date": "2019-12-01",
                                    "Overall_Memebers": "2722610"
                                },
                                {
                                    "Date": "2020-01-01",
                                    "Overall_Memebers": "2709254"
                                },
                                {
                                    "Date": "2020-02-01",
                                    "Overall_Memebers": "2704243"
                                },
                                {
                                    "Date": "2020-03-01",
                                    "Overall_Memebers": "2693401"
                                },
                                {
                                    "Date": "2020-04-01",
                                    "Overall_Memebers": "2825448"
                                },
                                {
                                    "Date": "2020-05-01",
                                    "Overall_Memebers": "2929091"
                                },
                                {
                                    "Date": "2020-06-01",
                                    "Overall_Memebers": "2990600"
                                },
                                {
                                    "Date": "2020-07-01",
                                    "Overall_Memebers": "3037339"
                                },
                                {
                                    "Date": "2020-08-01",
                                    "Overall_Memebers": "3093449"
                                },
                                {
                                    "Date": "2020-09-01",
                                    "Overall_Memebers": "3137126"
                                },
                                {
                                    "Date": "2020-10-01",
                                    "Overall_Memebers": "3187008"
                                },
                                {
                                    "Date": "2020-11-01",
                                    "Overall_Memebers": "3228530"
                                },
                                {
                                    "Date": "2020-12-01",
                                    "Overall_Memebers": "3275185"
                                },
                                {
                                    "Date": "2021-01-01",
                                    "Overall_Memebers": "3302474"
                                },
                                {
                                    "Date": "2021-02-01",
                                    "Overall_Memebers": "3342856"
                                },
                                {
                                    "Date": "2021-03-01",
                                    "Overall_Memebers": "3400061"
                                },
                                {
                                    "Date": "2021-04-01",
                                    "Overall_Memebers": "3424563"
                                },
                                {
                                    "Date": "2021-05-01",
                                    "Overall_Memebers": "3463142"
                                },
                                {
                                    "Date": "2021-06-01",
                                    "Overall_Memebers": "3502960"
                                },
                                {
                                    "Date": "2021-07-01",
                                    "Overall_Memebers": "3515667"
                                },
                                {
                                    "Date": "2021-08-01",
                                    "Overall_Memebers": "3554310"
                                },
                                {
                                    "Date": "2021-09-01",
                                    "Overall_Memebers": "3592929"
                                },
                                {
                                    "Date": "2021-10-01",
                                    "Overall_Memebers": "3624564"
                                },
                                {
                                    "Date": "2021-11-01",
                                    "Overall_Memebers": "3648471"
                                },
                                {
                                    "Date": "2021-12-01",
                                    "Overall_Memebers": "3673119"
                                },
                                {
                                    "Date": "2022-01-01",
                                    "Overall_Memebers": "3695312"
                                },
                                {
                                    "Date": "2022-02-01",
                                    "Overall_Memebers": "3726127"
                                },
                                {
                                    "Date": "2022-03-01",
                                    "Overall_Memebers": "3760548"
                                },
                                {
                                    "Date": "2022-04-01",
                                    "Overall_Memebers": "3795060"
                                },
                                {
                                    "Date": "2022-05-01",
                                    "Overall_Memebers": "3830022"
                                },
                                {
                                    "Date": "2022-06-01",
                                    "Overall_Memebers": "3872248"
                                },
                                {
                                    "Date": "2022-07-01",
                                    "Overall_Memebers": "3908539"
                                },
                                {
                                    "Date": "2022-08-01",
                                    "Overall_Memebers": "3948929"
                                },
                                {
                                    "Date": "2022-09-01",
                                    "Overall_Memebers": "3978098"
                                },
                                {
                                    "Date": "2022-10-01",
                                    "Overall_Memebers": "4010534"
                                },
                                {
                                    "Date": "2022-11-01",
                                    "Overall_Memebers": "4041816"
                                },
                                {
                                    "Date": "2022-12-01",
                                    "Overall_Memebers": "4080381"
                                },
                                {
                                    "Date": "2023-01-01",
                                    "Overall_Memebers": "4117926"
                                },
                                {
                                    "Date": "2023-02-01",
                                    "Overall_Memebers": "4151895"
                                },
                                {
                                    "Date": "2023-03-01",
                                    "Overall_Memebers": "4164878"
                                },
                                {
                                    "Date": "2023-04-01",
                                    "Overall_Memebers": "4182600"
                                },
                                {
                                    "Date": "2023-05-01",
                                    "Overall_Memebers": "3972291"
                                }
                            ]
                        },
                        "text/html": [
                            "<table>",
                            "<tr><th>Date</th><th>Overall_Memebers</th></tr>",
                            "<tr><td>2014-05-01</td><td>553654</td></tr>",
                            "<tr><td>2014-06-01</td><td>1241131</td></tr>",
                            "<tr><td>2014-07-01</td><td>1897498</td></tr>",
                            "<tr><td>2014-08-01</td><td>2511781</td></tr>",
                            "<tr><td>2014-09-01</td><td>2549849</td></tr>",
                            "<tr><td>2014-10-01</td><td>2584572</td></tr>",
                            "<tr><td>2014-11-01</td><td>2605577</td></tr>",
                            "<tr><td>2014-12-01</td><td>2647421</td></tr>",
                            "<tr><td>2015-01-01</td><td>2705799</td></tr>",
                            "<tr><td>2015-02-01</td><td>2741220</td></tr>",
                            "<tr><td>2015-03-01</td><td>2777648</td></tr>",
                            "<tr><td>2015-04-01</td><td>2794301</td></tr>",
                            "<tr><td>2015-05-01</td><td>2812991</td></tr>",
                            "<tr><td>2015-06-01</td><td>2837599</td></tr>",
                            "<tr><td>2015-07-01</td><td>2848148</td></tr>",
                            "<tr><td>2015-08-01</td><td>2905267</td></tr>",
                            "<tr><td>2015-09-01</td><td>2932366</td></tr>",
                            "<tr><td>2015-10-01</td><td>2934211</td></tr>",
                            "<tr><td>2015-11-01</td><td>2953982</td></tr>",
                            "<tr><td>2015-12-01</td><td>2958416</td></tr>",
                            "<tr><td>2016-01-01</td><td>2956843</td></tr>",
                            "<tr><td>2016-02-01</td><td>3008367</td></tr>",
                            "<tr><td>2016-03-01</td><td>3015186</td></tr>",
                            "<tr><td>2016-04-01</td><td>3012140</td></tr>",
                            "<tr><td>2016-05-01</td><td>3027859</td></tr>",
                            "<tr><td>2016-06-01</td><td>3038489</td></tr>",
                            "<tr><td>2016-07-01</td><td>3034719</td></tr>",
                            "<tr><td>2016-08-01</td><td>3064639</td></tr>",
                            "<tr><td>2016-09-01</td><td>3056190</td></tr>",
                            "<tr><td>2016-10-01</td><td>3060005</td></tr>",
                            "<tr><td>2016-11-01</td><td>3077246</td></tr>",
                            "<tr><td>2016-12-01</td><td>3075270</td></tr>",
                            "<tr><td>2017-01-01</td><td>3092585</td></tr>",
                            "<tr><td>2017-02-01</td><td>3085322</td></tr>",
                            "<tr><td>2017-03-01</td><td>3071659</td></tr>",
                            "<tr><td>2017-04-01</td><td>3049477</td></tr>",
                            "<tr><td>2017-05-01</td><td>3055670</td></tr>",
                            "<tr><td>2017-06-01</td><td>3035430</td></tr>",
                            "<tr><td>2017-07-01</td><td>3021387</td></tr>",
                            "<tr><td>2017-08-01</td><td>2986385</td></tr>",
                            "<tr><td>2017-09-01</td><td>2971117</td></tr>",
                            "<tr><td>2017-10-01</td><td>2987191</td></tr>",
                            "<tr><td>2017-11-01</td><td>2944047</td></tr>",
                            "<tr><td>2017-12-01</td><td>2940820</td></tr>",
                            "<tr><td>2018-01-01</td><td>2930457</td></tr>",
                            "<tr><td>2018-02-01</td><td>2923060</td></tr>",
                            "<tr><td>2018-03-01</td><td>2901601</td></tr>",
                            "<tr><td>2018-04-01</td><td>2893607</td></tr>",
                            "<tr><td>2018-05-01</td><td>2844479</td></tr>",
                            "<tr><td>2018-06-01</td><td>2899130</td></tr>",
                            "<tr><td>2018-07-01</td><td>2895869</td></tr>",
                            "<tr><td>2018-08-01</td><td>2895009</td></tr>",
                            "<tr><td>2018-09-01</td><td>2888249</td></tr>",
                            "<tr><td>2018-10-01</td><td>2887479</td></tr>",
                            "<tr><td>2018-11-01</td><td>2857533</td></tr>",
                            "<tr><td>2018-12-01</td><td>2865747</td></tr>",
                            "<tr><td>2019-01-01</td><td>2815657</td></tr>",
                            "<tr><td>2019-02-01</td><td>2788128</td></tr>",
                            "<tr><td>2019-03-01</td><td>2776844</td></tr>",
                            "<tr><td>2019-04-01</td><td>2774223</td></tr>",
                            "<tr><td>2019-05-01</td><td>2767565</td></tr>",
                            "<tr><td>2019-06-01</td><td>2764492</td></tr>",
                            "<tr><td>2019-07-01</td><td>2767248</td></tr>",
                            "<tr><td>2019-08-01</td><td>2762586</td></tr>",
                            "<tr><td>2019-09-01</td><td>2751311</td></tr>",
                            "<tr><td>2019-10-01</td><td>2746976</td></tr>",
                            "<tr><td>2019-11-01</td><td>2731974</td></tr>",
                            "<tr><td>2019-12-01</td><td>2722610</td></tr>",
                            "<tr><td>2020-01-01</td><td>2709254</td></tr>",
                            "<tr><td>2020-02-01</td><td>2704243</td></tr>",
                            "<tr><td>2020-03-01</td><td>2693401</td></tr>",
                            "<tr><td>2020-04-01</td><td>2825448</td></tr>",
                            "<tr><td>2020-05-01</td><td>2929091</td></tr>",
                            "<tr><td>2020-06-01</td><td>2990600</td></tr>",
                            "<tr><td>2020-07-01</td><td>3037339</td></tr>",
                            "<tr><td>2020-08-01</td><td>3093449</td></tr>",
                            "<tr><td>2020-09-01</td><td>3137126</td></tr>",
                            "<tr><td>2020-10-01</td><td>3187008</td></tr>",
                            "<tr><td>2020-11-01</td><td>3228530</td></tr>",
                            "<tr><td>2020-12-01</td><td>3275185</td></tr>",
                            "<tr><td>2021-01-01</td><td>3302474</td></tr>",
                            "<tr><td>2021-02-01</td><td>3342856</td></tr>",
                            "<tr><td>2021-03-01</td><td>3400061</td></tr>",
                            "<tr><td>2021-04-01</td><td>3424563</td></tr>",
                            "<tr><td>2021-05-01</td><td>3463142</td></tr>",
                            "<tr><td>2021-06-01</td><td>3502960</td></tr>",
                            "<tr><td>2021-07-01</td><td>3515667</td></tr>",
                            "<tr><td>2021-08-01</td><td>3554310</td></tr>",
                            "<tr><td>2021-09-01</td><td>3592929</td></tr>",
                            "<tr><td>2021-10-01</td><td>3624564</td></tr>",
                            "<tr><td>2021-11-01</td><td>3648471</td></tr>",
                            "<tr><td>2021-12-01</td><td>3673119</td></tr>",
                            "<tr><td>2022-01-01</td><td>3695312</td></tr>",
                            "<tr><td>2022-02-01</td><td>3726127</td></tr>",
                            "<tr><td>2022-03-01</td><td>3760548</td></tr>",
                            "<tr><td>2022-04-01</td><td>3795060</td></tr>",
                            "<tr><td>2022-05-01</td><td>3830022</td></tr>",
                            "<tr><td>2022-06-01</td><td>3872248</td></tr>",
                            "<tr><td>2022-07-01</td><td>3908539</td></tr>",
                            "<tr><td>2022-08-01</td><td>3948929</td></tr>",
                            "<tr><td>2022-09-01</td><td>3978098</td></tr>",
                            "<tr><td>2022-10-01</td><td>4010534</td></tr>",
                            "<tr><td>2022-11-01</td><td>4041816</td></tr>",
                            "<tr><td>2022-12-01</td><td>4080381</td></tr>",
                            "<tr><td>2023-01-01</td><td>4117926</td></tr>",
                            "<tr><td>2023-02-01</td><td>4151895</td></tr>",
                            "<tr><td>2023-03-01</td><td>4164878</td></tr>",
                            "<tr><td>2023-04-01</td><td>4182600</td></tr>",
                            "<tr><td>2023-05-01</td><td>3972291</td></tr>",
                            "</table>"
                        ]
                    }
                }
            ],
            "execution_count": 25
        },
        {
            "cell_type": "markdown",
            "source": [
                "# **Sunshine Members from May 2014 to May 2023**"
            ],
            "metadata": {
                "azdata_cell_guid": "b5690440-4c56-43eb-8217-e421305b2d93"
            },
            "attachments": {}
        },
        {
            "cell_type": "code",
            "source": [
                "Select [Date], sum(member_count) as Sunshine_Memebers from Membership where plan_name like '%sun%' group by [Date]"
            ],
            "metadata": {
                "azdata_cell_guid": "ebc7a359-37e8-40f9-9d0a-28617dd34f0e",
                "language": "sql"
            },
            "outputs": [
                {
                    "output_type": "display_data",
                    "data": {
                        "text/html": "(109 rows affected)"
                    },
                    "metadata": {}
                },
                {
                    "output_type": "display_data",
                    "data": {
                        "text/html": "Total execution time: 00:00:00.023"
                    },
                    "metadata": {}
                },
                {
                    "output_type": "execute_result",
                    "metadata": {
                        "azdata_chartOptions": {
                            "type": "line",
                            "dataDirection": "vertical",
                            "columnsAsLabels": true,
                            "labelFirstColumn": false,
                            "legendPosition": "top",
                            "dataType": "number"
                        }
                    },
                    "execution_count": 8,
                    "data": {
                        "application/vnd.dataresource+json": {
                            "schema": {
                                "fields": [
                                    {
                                        "name": "Date"
                                    },
                                    {
                                        "name": "Sunshine_Memebers"
                                    }
                                ]
                            },
                            "data": [
                                {
                                    "Date": "2014-05-01",
                                    "Sunshine_Memebers": "97164"
                                },
                                {
                                    "Date": "2014-06-01",
                                    "Sunshine_Memebers": "179020"
                                },
                                {
                                    "Date": "2014-07-01",
                                    "Sunshine_Memebers": "262495"
                                },
                                {
                                    "Date": "2014-08-01",
                                    "Sunshine_Memebers": "371698"
                                },
                                {
                                    "Date": "2014-09-01",
                                    "Sunshine_Memebers": "375632"
                                },
                                {
                                    "Date": "2014-10-01",
                                    "Sunshine_Memebers": "379333"
                                },
                                {
                                    "Date": "2014-11-01",
                                    "Sunshine_Memebers": "383297"
                                },
                                {
                                    "Date": "2014-12-01",
                                    "Sunshine_Memebers": "389238"
                                },
                                {
                                    "Date": "2015-01-01",
                                    "Sunshine_Memebers": "398963"
                                },
                                {
                                    "Date": "2015-02-01",
                                    "Sunshine_Memebers": "402069"
                                },
                                {
                                    "Date": "2015-03-01",
                                    "Sunshine_Memebers": "408572"
                                },
                                {
                                    "Date": "2015-04-01",
                                    "Sunshine_Memebers": "410940"
                                },
                                {
                                    "Date": "2015-05-01",
                                    "Sunshine_Memebers": "412857"
                                },
                                {
                                    "Date": "2015-06-01",
                                    "Sunshine_Memebers": "415311"
                                },
                                {
                                    "Date": "2015-07-01",
                                    "Sunshine_Memebers": "414514"
                                },
                                {
                                    "Date": "2015-08-01",
                                    "Sunshine_Memebers": "417097"
                                },
                                {
                                    "Date": "2015-09-01",
                                    "Sunshine_Memebers": "422353"
                                },
                                {
                                    "Date": "2015-10-01",
                                    "Sunshine_Memebers": "423725"
                                },
                                {
                                    "Date": "2015-11-01",
                                    "Sunshine_Memebers": "427279"
                                },
                                {
                                    "Date": "2015-12-01",
                                    "Sunshine_Memebers": "428818"
                                },
                                {
                                    "Date": "2016-01-01",
                                    "Sunshine_Memebers": "431934"
                                },
                                {
                                    "Date": "2016-02-01",
                                    "Sunshine_Memebers": "453453"
                                },
                                {
                                    "Date": "2016-03-01",
                                    "Sunshine_Memebers": "457602"
                                },
                                {
                                    "Date": "2016-04-01",
                                    "Sunshine_Memebers": "458562"
                                },
                                {
                                    "Date": "2016-05-01",
                                    "Sunshine_Memebers": "464050"
                                },
                                {
                                    "Date": "2016-06-01",
                                    "Sunshine_Memebers": "468645"
                                },
                                {
                                    "Date": "2016-07-01",
                                    "Sunshine_Memebers": "468119"
                                },
                                {
                                    "Date": "2016-08-01",
                                    "Sunshine_Memebers": "473722"
                                },
                                {
                                    "Date": "2016-09-01",
                                    "Sunshine_Memebers": "472175"
                                },
                                {
                                    "Date": "2016-10-01",
                                    "Sunshine_Memebers": "473342"
                                },
                                {
                                    "Date": "2016-11-01",
                                    "Sunshine_Memebers": "477067"
                                },
                                {
                                    "Date": "2016-12-01",
                                    "Sunshine_Memebers": "477775"
                                },
                                {
                                    "Date": "2017-01-01",
                                    "Sunshine_Memebers": "482249"
                                },
                                {
                                    "Date": "2017-02-01",
                                    "Sunshine_Memebers": "483077"
                                },
                                {
                                    "Date": "2017-03-01",
                                    "Sunshine_Memebers": "481391"
                                },
                                {
                                    "Date": "2017-04-01",
                                    "Sunshine_Memebers": "478444"
                                },
                                {
                                    "Date": "2017-05-01",
                                    "Sunshine_Memebers": "481712"
                                },
                                {
                                    "Date": "2017-06-01",
                                    "Sunshine_Memebers": "479688"
                                },
                                {
                                    "Date": "2017-07-01",
                                    "Sunshine_Memebers": "480071"
                                },
                                {
                                    "Date": "2017-08-01",
                                    "Sunshine_Memebers": "476077"
                                },
                                {
                                    "Date": "2017-09-01",
                                    "Sunshine_Memebers": "476066"
                                },
                                {
                                    "Date": "2017-10-01",
                                    "Sunshine_Memebers": "480618"
                                },
                                {
                                    "Date": "2017-11-01",
                                    "Sunshine_Memebers": "474412"
                                },
                                {
                                    "Date": "2017-12-01",
                                    "Sunshine_Memebers": "474865"
                                },
                                {
                                    "Date": "2018-01-01",
                                    "Sunshine_Memebers": "473381"
                                },
                                {
                                    "Date": "2018-02-01",
                                    "Sunshine_Memebers": "472339"
                                },
                                {
                                    "Date": "2018-03-01",
                                    "Sunshine_Memebers": "469998"
                                },
                                {
                                    "Date": "2018-04-01",
                                    "Sunshine_Memebers": "471249"
                                },
                                {
                                    "Date": "2018-05-01",
                                    "Sunshine_Memebers": "463684"
                                },
                                {
                                    "Date": "2018-06-01",
                                    "Sunshine_Memebers": "476322"
                                },
                                {
                                    "Date": "2018-07-01",
                                    "Sunshine_Memebers": "476762"
                                },
                                {
                                    "Date": "2018-08-01",
                                    "Sunshine_Memebers": "478502"
                                },
                                {
                                    "Date": "2018-09-01",
                                    "Sunshine_Memebers": "478661"
                                },
                                {
                                    "Date": "2018-10-01",
                                    "Sunshine_Memebers": "479889"
                                },
                                {
                                    "Date": "2018-11-01",
                                    "Sunshine_Memebers": "477699"
                                },
                                {
                                    "Date": "2018-12-01",
                                    "Sunshine_Memebers": "497187"
                                },
                                {
                                    "Date": "2019-01-01",
                                    "Sunshine_Memebers": "520118"
                                },
                                {
                                    "Date": "2019-02-01",
                                    "Sunshine_Memebers": "544918"
                                },
                                {
                                    "Date": "2019-03-01",
                                    "Sunshine_Memebers": "530595"
                                },
                                {
                                    "Date": "2019-04-01",
                                    "Sunshine_Memebers": "521181"
                                },
                                {
                                    "Date": "2019-05-01",
                                    "Sunshine_Memebers": "512658"
                                },
                                {
                                    "Date": "2019-06-01",
                                    "Sunshine_Memebers": "505905"
                                },
                                {
                                    "Date": "2019-07-01",
                                    "Sunshine_Memebers": "504116"
                                },
                                {
                                    "Date": "2019-08-01",
                                    "Sunshine_Memebers": "503631"
                                },
                                {
                                    "Date": "2019-09-01",
                                    "Sunshine_Memebers": "501538"
                                },
                                {
                                    "Date": "2019-10-01",
                                    "Sunshine_Memebers": "499804"
                                },
                                {
                                    "Date": "2019-11-01",
                                    "Sunshine_Memebers": "496611"
                                },
                                {
                                    "Date": "2019-12-01",
                                    "Sunshine_Memebers": "494543"
                                },
                                {
                                    "Date": "2020-01-01",
                                    "Sunshine_Memebers": "488939"
                                },
                                {
                                    "Date": "2020-02-01",
                                    "Sunshine_Memebers": "484593"
                                },
                                {
                                    "Date": "2020-03-01",
                                    "Sunshine_Memebers": "481454"
                                },
                                {
                                    "Date": "2020-04-01",
                                    "Sunshine_Memebers": "501534"
                                },
                                {
                                    "Date": "2020-05-01",
                                    "Sunshine_Memebers": "516744"
                                },
                                {
                                    "Date": "2020-06-01",
                                    "Sunshine_Memebers": "525890"
                                },
                                {
                                    "Date": "2020-07-01",
                                    "Sunshine_Memebers": "532372"
                                },
                                {
                                    "Date": "2020-08-01",
                                    "Sunshine_Memebers": "540773"
                                },
                                {
                                    "Date": "2020-09-01",
                                    "Sunshine_Memebers": "546923"
                                },
                                {
                                    "Date": "2020-10-01",
                                    "Sunshine_Memebers": "553988"
                                },
                                {
                                    "Date": "2020-11-01",
                                    "Sunshine_Memebers": "559923"
                                },
                                {
                                    "Date": "2020-12-01",
                                    "Sunshine_Memebers": "566307"
                                },
                                {
                                    "Date": "2021-01-01",
                                    "Sunshine_Memebers": "568399"
                                },
                                {
                                    "Date": "2021-02-01",
                                    "Sunshine_Memebers": "573620"
                                },
                                {
                                    "Date": "2021-03-01",
                                    "Sunshine_Memebers": "582693"
                                },
                                {
                                    "Date": "2021-04-01",
                                    "Sunshine_Memebers": "586034"
                                },
                                {
                                    "Date": "2021-05-01",
                                    "Sunshine_Memebers": "592122"
                                },
                                {
                                    "Date": "2021-06-01",
                                    "Sunshine_Memebers": "598209"
                                },
                                {
                                    "Date": "2021-07-01",
                                    "Sunshine_Memebers": "599172"
                                },
                                {
                                    "Date": "2021-08-01",
                                    "Sunshine_Memebers": "609827"
                                },
                                {
                                    "Date": "2021-09-01",
                                    "Sunshine_Memebers": "622454"
                                },
                                {
                                    "Date": "2021-10-01",
                                    "Sunshine_Memebers": "1521754"
                                },
                                {
                                    "Date": "2021-11-01",
                                    "Sunshine_Memebers": "1527112"
                                },
                                {
                                    "Date": "2021-12-01",
                                    "Sunshine_Memebers": "1532864"
                                },
                                {
                                    "Date": "2022-01-01",
                                    "Sunshine_Memebers": "1539509"
                                },
                                {
                                    "Date": "2022-02-01",
                                    "Sunshine_Memebers": "1549877"
                                },
                                {
                                    "Date": "2022-03-01",
                                    "Sunshine_Memebers": "1554477"
                                },
                                {
                                    "Date": "2022-04-01",
                                    "Sunshine_Memebers": "1549849"
                                },
                                {
                                    "Date": "2022-05-01",
                                    "Sunshine_Memebers": "1543301"
                                },
                                {
                                    "Date": "2022-06-01",
                                    "Sunshine_Memebers": "1540241"
                                },
                                {
                                    "Date": "2022-07-01",
                                    "Sunshine_Memebers": "1535557"
                                },
                                {
                                    "Date": "2022-08-01",
                                    "Sunshine_Memebers": "1529956"
                                },
                                {
                                    "Date": "2022-09-01",
                                    "Sunshine_Memebers": "1523961"
                                },
                                {
                                    "Date": "2022-10-01",
                                    "Sunshine_Memebers": "1519080"
                                },
                                {
                                    "Date": "2022-11-01",
                                    "Sunshine_Memebers": "1518069"
                                },
                                {
                                    "Date": "2022-12-01",
                                    "Sunshine_Memebers": "1530163"
                                },
                                {
                                    "Date": "2023-01-01",
                                    "Sunshine_Memebers": "1542465"
                                },
                                {
                                    "Date": "2023-02-01",
                                    "Sunshine_Memebers": "1554066"
                                },
                                {
                                    "Date": "2023-03-01",
                                    "Sunshine_Memebers": "1562423"
                                },
                                {
                                    "Date": "2023-04-01",
                                    "Sunshine_Memebers": "1569936"
                                },
                                {
                                    "Date": "2023-05-01",
                                    "Sunshine_Memebers": "1490488"
                                }
                            ]
                        },
                        "text/html": [
                            "<table>",
                            "<tr><th>Date</th><th>Sunshine_Memebers</th></tr>",
                            "<tr><td>2014-05-01</td><td>97164</td></tr>",
                            "<tr><td>2014-06-01</td><td>179020</td></tr>",
                            "<tr><td>2014-07-01</td><td>262495</td></tr>",
                            "<tr><td>2014-08-01</td><td>371698</td></tr>",
                            "<tr><td>2014-09-01</td><td>375632</td></tr>",
                            "<tr><td>2014-10-01</td><td>379333</td></tr>",
                            "<tr><td>2014-11-01</td><td>383297</td></tr>",
                            "<tr><td>2014-12-01</td><td>389238</td></tr>",
                            "<tr><td>2015-01-01</td><td>398963</td></tr>",
                            "<tr><td>2015-02-01</td><td>402069</td></tr>",
                            "<tr><td>2015-03-01</td><td>408572</td></tr>",
                            "<tr><td>2015-04-01</td><td>410940</td></tr>",
                            "<tr><td>2015-05-01</td><td>412857</td></tr>",
                            "<tr><td>2015-06-01</td><td>415311</td></tr>",
                            "<tr><td>2015-07-01</td><td>414514</td></tr>",
                            "<tr><td>2015-08-01</td><td>417097</td></tr>",
                            "<tr><td>2015-09-01</td><td>422353</td></tr>",
                            "<tr><td>2015-10-01</td><td>423725</td></tr>",
                            "<tr><td>2015-11-01</td><td>427279</td></tr>",
                            "<tr><td>2015-12-01</td><td>428818</td></tr>",
                            "<tr><td>2016-01-01</td><td>431934</td></tr>",
                            "<tr><td>2016-02-01</td><td>453453</td></tr>",
                            "<tr><td>2016-03-01</td><td>457602</td></tr>",
                            "<tr><td>2016-04-01</td><td>458562</td></tr>",
                            "<tr><td>2016-05-01</td><td>464050</td></tr>",
                            "<tr><td>2016-06-01</td><td>468645</td></tr>",
                            "<tr><td>2016-07-01</td><td>468119</td></tr>",
                            "<tr><td>2016-08-01</td><td>473722</td></tr>",
                            "<tr><td>2016-09-01</td><td>472175</td></tr>",
                            "<tr><td>2016-10-01</td><td>473342</td></tr>",
                            "<tr><td>2016-11-01</td><td>477067</td></tr>",
                            "<tr><td>2016-12-01</td><td>477775</td></tr>",
                            "<tr><td>2017-01-01</td><td>482249</td></tr>",
                            "<tr><td>2017-02-01</td><td>483077</td></tr>",
                            "<tr><td>2017-03-01</td><td>481391</td></tr>",
                            "<tr><td>2017-04-01</td><td>478444</td></tr>",
                            "<tr><td>2017-05-01</td><td>481712</td></tr>",
                            "<tr><td>2017-06-01</td><td>479688</td></tr>",
                            "<tr><td>2017-07-01</td><td>480071</td></tr>",
                            "<tr><td>2017-08-01</td><td>476077</td></tr>",
                            "<tr><td>2017-09-01</td><td>476066</td></tr>",
                            "<tr><td>2017-10-01</td><td>480618</td></tr>",
                            "<tr><td>2017-11-01</td><td>474412</td></tr>",
                            "<tr><td>2017-12-01</td><td>474865</td></tr>",
                            "<tr><td>2018-01-01</td><td>473381</td></tr>",
                            "<tr><td>2018-02-01</td><td>472339</td></tr>",
                            "<tr><td>2018-03-01</td><td>469998</td></tr>",
                            "<tr><td>2018-04-01</td><td>471249</td></tr>",
                            "<tr><td>2018-05-01</td><td>463684</td></tr>",
                            "<tr><td>2018-06-01</td><td>476322</td></tr>",
                            "<tr><td>2018-07-01</td><td>476762</td></tr>",
                            "<tr><td>2018-08-01</td><td>478502</td></tr>",
                            "<tr><td>2018-09-01</td><td>478661</td></tr>",
                            "<tr><td>2018-10-01</td><td>479889</td></tr>",
                            "<tr><td>2018-11-01</td><td>477699</td></tr>",
                            "<tr><td>2018-12-01</td><td>497187</td></tr>",
                            "<tr><td>2019-01-01</td><td>520118</td></tr>",
                            "<tr><td>2019-02-01</td><td>544918</td></tr>",
                            "<tr><td>2019-03-01</td><td>530595</td></tr>",
                            "<tr><td>2019-04-01</td><td>521181</td></tr>",
                            "<tr><td>2019-05-01</td><td>512658</td></tr>",
                            "<tr><td>2019-06-01</td><td>505905</td></tr>",
                            "<tr><td>2019-07-01</td><td>504116</td></tr>",
                            "<tr><td>2019-08-01</td><td>503631</td></tr>",
                            "<tr><td>2019-09-01</td><td>501538</td></tr>",
                            "<tr><td>2019-10-01</td><td>499804</td></tr>",
                            "<tr><td>2019-11-01</td><td>496611</td></tr>",
                            "<tr><td>2019-12-01</td><td>494543</td></tr>",
                            "<tr><td>2020-01-01</td><td>488939</td></tr>",
                            "<tr><td>2020-02-01</td><td>484593</td></tr>",
                            "<tr><td>2020-03-01</td><td>481454</td></tr>",
                            "<tr><td>2020-04-01</td><td>501534</td></tr>",
                            "<tr><td>2020-05-01</td><td>516744</td></tr>",
                            "<tr><td>2020-06-01</td><td>525890</td></tr>",
                            "<tr><td>2020-07-01</td><td>532372</td></tr>",
                            "<tr><td>2020-08-01</td><td>540773</td></tr>",
                            "<tr><td>2020-09-01</td><td>546923</td></tr>",
                            "<tr><td>2020-10-01</td><td>553988</td></tr>",
                            "<tr><td>2020-11-01</td><td>559923</td></tr>",
                            "<tr><td>2020-12-01</td><td>566307</td></tr>",
                            "<tr><td>2021-01-01</td><td>568399</td></tr>",
                            "<tr><td>2021-02-01</td><td>573620</td></tr>",
                            "<tr><td>2021-03-01</td><td>582693</td></tr>",
                            "<tr><td>2021-04-01</td><td>586034</td></tr>",
                            "<tr><td>2021-05-01</td><td>592122</td></tr>",
                            "<tr><td>2021-06-01</td><td>598209</td></tr>",
                            "<tr><td>2021-07-01</td><td>599172</td></tr>",
                            "<tr><td>2021-08-01</td><td>609827</td></tr>",
                            "<tr><td>2021-09-01</td><td>622454</td></tr>",
                            "<tr><td>2021-10-01</td><td>1521754</td></tr>",
                            "<tr><td>2021-11-01</td><td>1527112</td></tr>",
                            "<tr><td>2021-12-01</td><td>1532864</td></tr>",
                            "<tr><td>2022-01-01</td><td>1539509</td></tr>",
                            "<tr><td>2022-02-01</td><td>1549877</td></tr>",
                            "<tr><td>2022-03-01</td><td>1554477</td></tr>",
                            "<tr><td>2022-04-01</td><td>1549849</td></tr>",
                            "<tr><td>2022-05-01</td><td>1543301</td></tr>",
                            "<tr><td>2022-06-01</td><td>1540241</td></tr>",
                            "<tr><td>2022-07-01</td><td>1535557</td></tr>",
                            "<tr><td>2022-08-01</td><td>1529956</td></tr>",
                            "<tr><td>2022-09-01</td><td>1523961</td></tr>",
                            "<tr><td>2022-10-01</td><td>1519080</td></tr>",
                            "<tr><td>2022-11-01</td><td>1518069</td></tr>",
                            "<tr><td>2022-12-01</td><td>1530163</td></tr>",
                            "<tr><td>2023-01-01</td><td>1542465</td></tr>",
                            "<tr><td>2023-02-01</td><td>1554066</td></tr>",
                            "<tr><td>2023-03-01</td><td>1562423</td></tr>",
                            "<tr><td>2023-04-01</td><td>1569936</td></tr>",
                            "<tr><td>2023-05-01</td><td>1490488</td></tr>",
                            "</table>"
                        ]
                    }
                }
            ],
            "execution_count": 8
        },
        {
            "cell_type": "markdown",
            "source": [
                "# **Simply Members from May 2014 to May 2023**"
            ],
            "metadata": {
                "azdata_cell_guid": "d013f573-f245-4aa7-a6c0-bef56fc18445"
            },
            "attachments": {}
        },
        {
            "cell_type": "code",
            "source": [
                "Select [Date], sum(member_count) as Simply_Memebers from Membership where plan_name like '%simply%'group by [Date]"
            ],
            "metadata": {
                "azdata_cell_guid": "9c9598b4-1132-4e3f-a958-1e0f10ec001d",
                "language": "sql"
            },
            "outputs": [
                {
                    "output_type": "display_data",
                    "data": {
                        "text/html": "(109 rows affected)"
                    },
                    "metadata": {}
                },
                {
                    "output_type": "display_data",
                    "data": {
                        "text/html": "Total execution time: 00:00:00.019"
                    },
                    "metadata": {}
                },
                {
                    "output_type": "execute_result",
                    "metadata": {
                        "azdata_chartOptions": {
                            "type": "line",
                            "dataDirection": "vertical",
                            "columnsAsLabels": true,
                            "labelFirstColumn": false,
                            "legendPosition": "top",
                            "dataType": "number"
                        }
                    },
                    "execution_count": 9,
                    "data": {
                        "application/vnd.dataresource+json": {
                            "schema": {
                                "fields": [
                                    {
                                        "name": "Date"
                                    },
                                    {
                                        "name": "Simply_Memebers"
                                    }
                                ]
                            },
                            "data": [
                                {
                                    "Date": "2014-05-01",
                                    "Simply_Memebers": "0"
                                },
                                {
                                    "Date": "2014-06-01",
                                    "Simply_Memebers": "0"
                                },
                                {
                                    "Date": "2014-07-01",
                                    "Simply_Memebers": "68893"
                                },
                                {
                                    "Date": "2014-08-01",
                                    "Simply_Memebers": "73004"
                                },
                                {
                                    "Date": "2014-09-01",
                                    "Simply_Memebers": "75497"
                                },
                                {
                                    "Date": "2014-10-01",
                                    "Simply_Memebers": "77550"
                                },
                                {
                                    "Date": "2014-11-01",
                                    "Simply_Memebers": "78252"
                                },
                                {
                                    "Date": "2014-12-01",
                                    "Simply_Memebers": "79438"
                                },
                                {
                                    "Date": "2015-01-01",
                                    "Simply_Memebers": "80597"
                                },
                                {
                                    "Date": "2015-02-01",
                                    "Simply_Memebers": "82647"
                                },
                                {
                                    "Date": "2015-03-01",
                                    "Simply_Memebers": "83924"
                                },
                                {
                                    "Date": "2015-04-01",
                                    "Simply_Memebers": "84405"
                                },
                                {
                                    "Date": "2015-05-01",
                                    "Simply_Memebers": "85929"
                                },
                                {
                                    "Date": "2015-06-01",
                                    "Simply_Memebers": "85747"
                                },
                                {
                                    "Date": "2015-07-01",
                                    "Simply_Memebers": "80314"
                                },
                                {
                                    "Date": "2015-08-01",
                                    "Simply_Memebers": "80445"
                                },
                                {
                                    "Date": "2015-09-01",
                                    "Simply_Memebers": "80024"
                                },
                                {
                                    "Date": "2015-10-01",
                                    "Simply_Memebers": "80313"
                                },
                                {
                                    "Date": "2015-11-01",
                                    "Simply_Memebers": "81358"
                                },
                                {
                                    "Date": "2015-12-01",
                                    "Simply_Memebers": "81933"
                                },
                                {
                                    "Date": "2016-01-01",
                                    "Simply_Memebers": "82883"
                                },
                                {
                                    "Date": "2016-02-01",
                                    "Simply_Memebers": "84143"
                                },
                                {
                                    "Date": "2016-03-01",
                                    "Simply_Memebers": "84642"
                                },
                                {
                                    "Date": "2016-04-01",
                                    "Simply_Memebers": "85034"
                                },
                                {
                                    "Date": "2016-05-01",
                                    "Simply_Memebers": "84970"
                                },
                                {
                                    "Date": "2016-06-01",
                                    "Simply_Memebers": "82863"
                                },
                                {
                                    "Date": "2016-07-01",
                                    "Simply_Memebers": "83211"
                                },
                                {
                                    "Date": "2016-08-01",
                                    "Simply_Memebers": "83842"
                                },
                                {
                                    "Date": "2016-09-01",
                                    "Simply_Memebers": "84195"
                                },
                                {
                                    "Date": "2016-10-01",
                                    "Simply_Memebers": "84117"
                                },
                                {
                                    "Date": "2016-11-01",
                                    "Simply_Memebers": "84665"
                                },
                                {
                                    "Date": "2016-12-01",
                                    "Simply_Memebers": "85168"
                                },
                                {
                                    "Date": "2017-01-01",
                                    "Simply_Memebers": "85699"
                                },
                                {
                                    "Date": "2017-02-01",
                                    "Simply_Memebers": "84615"
                                },
                                {
                                    "Date": "2017-03-01",
                                    "Simply_Memebers": "83956"
                                },
                                {
                                    "Date": "2017-04-01",
                                    "Simply_Memebers": "83150"
                                },
                                {
                                    "Date": "2017-05-01",
                                    "Simply_Memebers": "82695"
                                },
                                {
                                    "Date": "2017-06-01",
                                    "Simply_Memebers": "81909"
                                },
                                {
                                    "Date": "2017-07-01",
                                    "Simply_Memebers": "81284"
                                },
                                {
                                    "Date": "2017-08-01",
                                    "Simply_Memebers": "79357"
                                },
                                {
                                    "Date": "2017-09-01",
                                    "Simply_Memebers": "78325"
                                },
                                {
                                    "Date": "2017-10-01",
                                    "Simply_Memebers": "78060"
                                },
                                {
                                    "Date": "2017-11-01",
                                    "Simply_Memebers": "77078"
                                },
                                {
                                    "Date": "2017-12-01",
                                    "Simply_Memebers": "76638"
                                },
                                {
                                    "Date": "2018-01-01",
                                    "Simply_Memebers": "75787"
                                },
                                {
                                    "Date": "2018-02-01",
                                    "Simply_Memebers": "75152"
                                },
                                {
                                    "Date": "2018-03-01",
                                    "Simply_Memebers": "74007"
                                },
                                {
                                    "Date": "2018-04-01",
                                    "Simply_Memebers": "72386"
                                },
                                {
                                    "Date": "2018-05-01",
                                    "Simply_Memebers": "71219"
                                },
                                {
                                    "Date": "2018-06-01",
                                    "Simply_Memebers": "71228"
                                },
                                {
                                    "Date": "2018-07-01",
                                    "Simply_Memebers": "71259"
                                },
                                {
                                    "Date": "2018-08-01",
                                    "Simply_Memebers": "70605"
                                },
                                {
                                    "Date": "2018-09-01",
                                    "Simply_Memebers": "70409"
                                },
                                {
                                    "Date": "2018-10-01",
                                    "Simply_Memebers": "70438"
                                },
                                {
                                    "Date": "2018-11-01",
                                    "Simply_Memebers": "69124"
                                },
                                {
                                    "Date": "2018-12-01",
                                    "Simply_Memebers": "185273"
                                },
                                {
                                    "Date": "2019-01-01",
                                    "Simply_Memebers": "474289"
                                },
                                {
                                    "Date": "2019-02-01",
                                    "Simply_Memebers": "469696"
                                },
                                {
                                    "Date": "2019-03-01",
                                    "Simply_Memebers": "464819"
                                },
                                {
                                    "Date": "2019-04-01",
                                    "Simply_Memebers": "462013"
                                },
                                {
                                    "Date": "2019-05-01",
                                    "Simply_Memebers": "459140"
                                },
                                {
                                    "Date": "2019-06-01",
                                    "Simply_Memebers": "456770"
                                },
                                {
                                    "Date": "2019-07-01",
                                    "Simply_Memebers": "454393"
                                },
                                {
                                    "Date": "2019-08-01",
                                    "Simply_Memebers": "451566"
                                },
                                {
                                    "Date": "2019-09-01",
                                    "Simply_Memebers": "447191"
                                },
                                {
                                    "Date": "2019-10-01",
                                    "Simply_Memebers": "444596"
                                },
                                {
                                    "Date": "2019-11-01",
                                    "Simply_Memebers": "440217"
                                },
                                {
                                    "Date": "2019-12-01",
                                    "Simply_Memebers": "437980"
                                },
                                {
                                    "Date": "2020-01-01",
                                    "Simply_Memebers": "433674"
                                },
                                {
                                    "Date": "2020-02-01",
                                    "Simply_Memebers": "432318"
                                },
                                {
                                    "Date": "2020-03-01",
                                    "Simply_Memebers": "430181"
                                },
                                {
                                    "Date": "2020-04-01",
                                    "Simply_Memebers": "449776"
                                },
                                {
                                    "Date": "2020-05-01",
                                    "Simply_Memebers": "465291"
                                },
                                {
                                    "Date": "2020-06-01",
                                    "Simply_Memebers": "474132"
                                },
                                {
                                    "Date": "2020-07-01",
                                    "Simply_Memebers": "480883"
                                },
                                {
                                    "Date": "2020-08-01",
                                    "Simply_Memebers": "488122"
                                },
                                {
                                    "Date": "2020-09-01",
                                    "Simply_Memebers": "494238"
                                },
                                {
                                    "Date": "2020-10-01",
                                    "Simply_Memebers": "500950"
                                },
                                {
                                    "Date": "2020-11-01",
                                    "Simply_Memebers": "506554"
                                },
                                {
                                    "Date": "2020-12-01",
                                    "Simply_Memebers": "513926"
                                },
                                {
                                    "Date": "2021-01-01",
                                    "Simply_Memebers": "517033"
                                },
                                {
                                    "Date": "2021-02-01",
                                    "Simply_Memebers": "560002"
                                },
                                {
                                    "Date": "2021-03-01",
                                    "Simply_Memebers": "568096"
                                },
                                {
                                    "Date": "2021-04-01",
                                    "Simply_Memebers": "571640"
                                },
                                {
                                    "Date": "2021-05-01",
                                    "Simply_Memebers": "609182"
                                },
                                {
                                    "Date": "2021-06-01",
                                    "Simply_Memebers": "615578"
                                },
                                {
                                    "Date": "2021-07-01",
                                    "Simply_Memebers": "618781"
                                },
                                {
                                    "Date": "2021-08-01",
                                    "Simply_Memebers": "626444"
                                },
                                {
                                    "Date": "2021-09-01",
                                    "Simply_Memebers": "635044"
                                },
                                {
                                    "Date": "2021-10-01",
                                    "Simply_Memebers": "643360"
                                },
                                {
                                    "Date": "2021-11-01",
                                    "Simply_Memebers": "648466"
                                },
                                {
                                    "Date": "2021-12-01",
                                    "Simply_Memebers": "654782"
                                },
                                {
                                    "Date": "2022-01-01",
                                    "Simply_Memebers": "658921"
                                },
                                {
                                    "Date": "2022-02-01",
                                    "Simply_Memebers": "664343"
                                },
                                {
                                    "Date": "2022-03-01",
                                    "Simply_Memebers": "672075"
                                },
                                {
                                    "Date": "2022-04-01",
                                    "Simply_Memebers": "682042"
                                },
                                {
                                    "Date": "2022-05-01",
                                    "Simply_Memebers": "693163"
                                },
                                {
                                    "Date": "2022-06-01",
                                    "Simply_Memebers": "705485"
                                },
                                {
                                    "Date": "2022-07-01",
                                    "Simply_Memebers": "716769"
                                },
                                {
                                    "Date": "2022-08-01",
                                    "Simply_Memebers": "728902"
                                },
                                {
                                    "Date": "2022-09-01",
                                    "Simply_Memebers": "737977"
                                },
                                {
                                    "Date": "2022-10-01",
                                    "Simply_Memebers": "747585"
                                },
                                {
                                    "Date": "2022-11-01",
                                    "Simply_Memebers": "786106"
                                },
                                {
                                    "Date": "2022-12-01",
                                    "Simply_Memebers": "793895"
                                },
                                {
                                    "Date": "2023-01-01",
                                    "Simply_Memebers": "801862"
                                },
                                {
                                    "Date": "2023-02-01",
                                    "Simply_Memebers": "809481"
                                },
                                {
                                    "Date": "2023-03-01",
                                    "Simply_Memebers": "809448"
                                },
                                {
                                    "Date": "2023-04-01",
                                    "Simply_Memebers": "811827"
                                },
                                {
                                    "Date": "2023-05-01",
                                    "Simply_Memebers": "771547"
                                }
                            ]
                        },
                        "text/html": [
                            "<table>",
                            "<tr><th>Date</th><th>Simply_Memebers</th></tr>",
                            "<tr><td>2014-05-01</td><td>0</td></tr>",
                            "<tr><td>2014-06-01</td><td>0</td></tr>",
                            "<tr><td>2014-07-01</td><td>68893</td></tr>",
                            "<tr><td>2014-08-01</td><td>73004</td></tr>",
                            "<tr><td>2014-09-01</td><td>75497</td></tr>",
                            "<tr><td>2014-10-01</td><td>77550</td></tr>",
                            "<tr><td>2014-11-01</td><td>78252</td></tr>",
                            "<tr><td>2014-12-01</td><td>79438</td></tr>",
                            "<tr><td>2015-01-01</td><td>80597</td></tr>",
                            "<tr><td>2015-02-01</td><td>82647</td></tr>",
                            "<tr><td>2015-03-01</td><td>83924</td></tr>",
                            "<tr><td>2015-04-01</td><td>84405</td></tr>",
                            "<tr><td>2015-05-01</td><td>85929</td></tr>",
                            "<tr><td>2015-06-01</td><td>85747</td></tr>",
                            "<tr><td>2015-07-01</td><td>80314</td></tr>",
                            "<tr><td>2015-08-01</td><td>80445</td></tr>",
                            "<tr><td>2015-09-01</td><td>80024</td></tr>",
                            "<tr><td>2015-10-01</td><td>80313</td></tr>",
                            "<tr><td>2015-11-01</td><td>81358</td></tr>",
                            "<tr><td>2015-12-01</td><td>81933</td></tr>",
                            "<tr><td>2016-01-01</td><td>82883</td></tr>",
                            "<tr><td>2016-02-01</td><td>84143</td></tr>",
                            "<tr><td>2016-03-01</td><td>84642</td></tr>",
                            "<tr><td>2016-04-01</td><td>85034</td></tr>",
                            "<tr><td>2016-05-01</td><td>84970</td></tr>",
                            "<tr><td>2016-06-01</td><td>82863</td></tr>",
                            "<tr><td>2016-07-01</td><td>83211</td></tr>",
                            "<tr><td>2016-08-01</td><td>83842</td></tr>",
                            "<tr><td>2016-09-01</td><td>84195</td></tr>",
                            "<tr><td>2016-10-01</td><td>84117</td></tr>",
                            "<tr><td>2016-11-01</td><td>84665</td></tr>",
                            "<tr><td>2016-12-01</td><td>85168</td></tr>",
                            "<tr><td>2017-01-01</td><td>85699</td></tr>",
                            "<tr><td>2017-02-01</td><td>84615</td></tr>",
                            "<tr><td>2017-03-01</td><td>83956</td></tr>",
                            "<tr><td>2017-04-01</td><td>83150</td></tr>",
                            "<tr><td>2017-05-01</td><td>82695</td></tr>",
                            "<tr><td>2017-06-01</td><td>81909</td></tr>",
                            "<tr><td>2017-07-01</td><td>81284</td></tr>",
                            "<tr><td>2017-08-01</td><td>79357</td></tr>",
                            "<tr><td>2017-09-01</td><td>78325</td></tr>",
                            "<tr><td>2017-10-01</td><td>78060</td></tr>",
                            "<tr><td>2017-11-01</td><td>77078</td></tr>",
                            "<tr><td>2017-12-01</td><td>76638</td></tr>",
                            "<tr><td>2018-01-01</td><td>75787</td></tr>",
                            "<tr><td>2018-02-01</td><td>75152</td></tr>",
                            "<tr><td>2018-03-01</td><td>74007</td></tr>",
                            "<tr><td>2018-04-01</td><td>72386</td></tr>",
                            "<tr><td>2018-05-01</td><td>71219</td></tr>",
                            "<tr><td>2018-06-01</td><td>71228</td></tr>",
                            "<tr><td>2018-07-01</td><td>71259</td></tr>",
                            "<tr><td>2018-08-01</td><td>70605</td></tr>",
                            "<tr><td>2018-09-01</td><td>70409</td></tr>",
                            "<tr><td>2018-10-01</td><td>70438</td></tr>",
                            "<tr><td>2018-11-01</td><td>69124</td></tr>",
                            "<tr><td>2018-12-01</td><td>185273</td></tr>",
                            "<tr><td>2019-01-01</td><td>474289</td></tr>",
                            "<tr><td>2019-02-01</td><td>469696</td></tr>",
                            "<tr><td>2019-03-01</td><td>464819</td></tr>",
                            "<tr><td>2019-04-01</td><td>462013</td></tr>",
                            "<tr><td>2019-05-01</td><td>459140</td></tr>",
                            "<tr><td>2019-06-01</td><td>456770</td></tr>",
                            "<tr><td>2019-07-01</td><td>454393</td></tr>",
                            "<tr><td>2019-08-01</td><td>451566</td></tr>",
                            "<tr><td>2019-09-01</td><td>447191</td></tr>",
                            "<tr><td>2019-10-01</td><td>444596</td></tr>",
                            "<tr><td>2019-11-01</td><td>440217</td></tr>",
                            "<tr><td>2019-12-01</td><td>437980</td></tr>",
                            "<tr><td>2020-01-01</td><td>433674</td></tr>",
                            "<tr><td>2020-02-01</td><td>432318</td></tr>",
                            "<tr><td>2020-03-01</td><td>430181</td></tr>",
                            "<tr><td>2020-04-01</td><td>449776</td></tr>",
                            "<tr><td>2020-05-01</td><td>465291</td></tr>",
                            "<tr><td>2020-06-01</td><td>474132</td></tr>",
                            "<tr><td>2020-07-01</td><td>480883</td></tr>",
                            "<tr><td>2020-08-01</td><td>488122</td></tr>",
                            "<tr><td>2020-09-01</td><td>494238</td></tr>",
                            "<tr><td>2020-10-01</td><td>500950</td></tr>",
                            "<tr><td>2020-11-01</td><td>506554</td></tr>",
                            "<tr><td>2020-12-01</td><td>513926</td></tr>",
                            "<tr><td>2021-01-01</td><td>517033</td></tr>",
                            "<tr><td>2021-02-01</td><td>560002</td></tr>",
                            "<tr><td>2021-03-01</td><td>568096</td></tr>",
                            "<tr><td>2021-04-01</td><td>571640</td></tr>",
                            "<tr><td>2021-05-01</td><td>609182</td></tr>",
                            "<tr><td>2021-06-01</td><td>615578</td></tr>",
                            "<tr><td>2021-07-01</td><td>618781</td></tr>",
                            "<tr><td>2021-08-01</td><td>626444</td></tr>",
                            "<tr><td>2021-09-01</td><td>635044</td></tr>",
                            "<tr><td>2021-10-01</td><td>643360</td></tr>",
                            "<tr><td>2021-11-01</td><td>648466</td></tr>",
                            "<tr><td>2021-12-01</td><td>654782</td></tr>",
                            "<tr><td>2022-01-01</td><td>658921</td></tr>",
                            "<tr><td>2022-02-01</td><td>664343</td></tr>",
                            "<tr><td>2022-03-01</td><td>672075</td></tr>",
                            "<tr><td>2022-04-01</td><td>682042</td></tr>",
                            "<tr><td>2022-05-01</td><td>693163</td></tr>",
                            "<tr><td>2022-06-01</td><td>705485</td></tr>",
                            "<tr><td>2022-07-01</td><td>716769</td></tr>",
                            "<tr><td>2022-08-01</td><td>728902</td></tr>",
                            "<tr><td>2022-09-01</td><td>737977</td></tr>",
                            "<tr><td>2022-10-01</td><td>747585</td></tr>",
                            "<tr><td>2022-11-01</td><td>786106</td></tr>",
                            "<tr><td>2022-12-01</td><td>793895</td></tr>",
                            "<tr><td>2023-01-01</td><td>801862</td></tr>",
                            "<tr><td>2023-02-01</td><td>809481</td></tr>",
                            "<tr><td>2023-03-01</td><td>809448</td></tr>",
                            "<tr><td>2023-04-01</td><td>811827</td></tr>",
                            "<tr><td>2023-05-01</td><td>771547</td></tr>",
                            "</table>"
                        ]
                    }
                }
            ],
            "execution_count": 9
        },
        {
            "cell_type": "markdown",
            "source": [
                "# **Humana Members from May 2014 to May 2023**"
            ],
            "metadata": {
                "azdata_cell_guid": "4684efc1-08d5-4fa2-9ca7-d254a47e5a68"
            },
            "attachments": {}
        },
        {
            "cell_type": "code",
            "source": [
                "Select [Date], sum(member_count) as Humana_Memebers from Membership where plan_name like '%humana%'group by [Date]"
            ],
            "metadata": {
                "azdata_cell_guid": "93f95a3f-a075-4d6c-92a5-25dec6ab04ca",
                "language": "sql"
            },
            "outputs": [
                {
                    "output_type": "display_data",
                    "data": {
                        "text/html": "(109 rows affected)"
                    },
                    "metadata": {}
                },
                {
                    "output_type": "display_data",
                    "data": {
                        "text/html": "Total execution time: 00:00:00.045"
                    },
                    "metadata": {}
                },
                {
                    "output_type": "execute_result",
                    "metadata": {
                        "azdata_chartOptions": {
                            "type": "line",
                            "dataDirection": "vertical",
                            "columnsAsLabels": true,
                            "labelFirstColumn": false,
                            "legendPosition": "top",
                            "dataType": "number"
                        }
                    },
                    "execution_count": 12,
                    "data": {
                        "application/vnd.dataresource+json": {
                            "schema": {
                                "fields": [
                                    {
                                        "name": "Date"
                                    },
                                    {
                                        "name": "Humana_Memebers"
                                    }
                                ]
                            },
                            "data": [
                                {
                                    "Date": "2014-05-01",
                                    "Humana_Memebers": "0"
                                },
                                {
                                    "Date": "2014-06-01",
                                    "Humana_Memebers": "26167"
                                },
                                {
                                    "Date": "2014-07-01",
                                    "Humana_Memebers": "134989"
                                },
                                {
                                    "Date": "2014-08-01",
                                    "Humana_Memebers": "246972"
                                },
                                {
                                    "Date": "2014-09-01",
                                    "Humana_Memebers": "258071"
                                },
                                {
                                    "Date": "2014-10-01",
                                    "Humana_Memebers": "263750"
                                },
                                {
                                    "Date": "2014-11-01",
                                    "Humana_Memebers": "267984"
                                },
                                {
                                    "Date": "2014-12-01",
                                    "Humana_Memebers": "274574"
                                },
                                {
                                    "Date": "2015-01-01",
                                    "Humana_Memebers": "282381"
                                },
                                {
                                    "Date": "2015-02-01",
                                    "Humana_Memebers": "290969"
                                },
                                {
                                    "Date": "2015-03-01",
                                    "Humana_Memebers": "296431"
                                },
                                {
                                    "Date": "2015-04-01",
                                    "Humana_Memebers": "300527"
                                },
                                {
                                    "Date": "2015-05-01",
                                    "Humana_Memebers": "305430"
                                },
                                {
                                    "Date": "2015-06-01",
                                    "Humana_Memebers": "311539"
                                },
                                {
                                    "Date": "2015-07-01",
                                    "Humana_Memebers": "320534"
                                },
                                {
                                    "Date": "2015-08-01",
                                    "Humana_Memebers": "323178"
                                },
                                {
                                    "Date": "2015-09-01",
                                    "Humana_Memebers": "326089"
                                },
                                {
                                    "Date": "2015-10-01",
                                    "Humana_Memebers": "326457"
                                },
                                {
                                    "Date": "2015-11-01",
                                    "Humana_Memebers": "329516"
                                },
                                {
                                    "Date": "2015-12-01",
                                    "Humana_Memebers": "330904"
                                },
                                {
                                    "Date": "2016-01-01",
                                    "Humana_Memebers": "332040"
                                },
                                {
                                    "Date": "2016-02-01",
                                    "Humana_Memebers": "339720"
                                },
                                {
                                    "Date": "2016-03-01",
                                    "Humana_Memebers": "340717"
                                },
                                {
                                    "Date": "2016-04-01",
                                    "Humana_Memebers": "340321"
                                },
                                {
                                    "Date": "2016-05-01",
                                    "Humana_Memebers": "341775"
                                },
                                {
                                    "Date": "2016-06-01",
                                    "Humana_Memebers": "343728"
                                },
                                {
                                    "Date": "2016-07-01",
                                    "Humana_Memebers": "341638"
                                },
                                {
                                    "Date": "2016-08-01",
                                    "Humana_Memebers": "343232"
                                },
                                {
                                    "Date": "2016-09-01",
                                    "Humana_Memebers": "340893"
                                },
                                {
                                    "Date": "2016-10-01",
                                    "Humana_Memebers": "339418"
                                },
                                {
                                    "Date": "2016-11-01",
                                    "Humana_Memebers": "340113"
                                },
                                {
                                    "Date": "2016-12-01",
                                    "Humana_Memebers": "338314"
                                },
                                {
                                    "Date": "2017-01-01",
                                    "Humana_Memebers": "339140"
                                },
                                {
                                    "Date": "2017-02-01",
                                    "Humana_Memebers": "334943"
                                },
                                {
                                    "Date": "2017-03-01",
                                    "Humana_Memebers": "332565"
                                },
                                {
                                    "Date": "2017-04-01",
                                    "Humana_Memebers": "328297"
                                },
                                {
                                    "Date": "2017-05-01",
                                    "Humana_Memebers": "329104"
                                },
                                {
                                    "Date": "2017-06-01",
                                    "Humana_Memebers": "326907"
                                },
                                {
                                    "Date": "2017-07-01",
                                    "Humana_Memebers": "324243"
                                },
                                {
                                    "Date": "2017-08-01",
                                    "Humana_Memebers": "318780"
                                },
                                {
                                    "Date": "2017-09-01",
                                    "Humana_Memebers": "315529"
                                },
                                {
                                    "Date": "2017-10-01",
                                    "Humana_Memebers": "316541"
                                },
                                {
                                    "Date": "2017-11-01",
                                    "Humana_Memebers": "311177"
                                },
                                {
                                    "Date": "2017-12-01",
                                    "Humana_Memebers": "309549"
                                },
                                {
                                    "Date": "2018-01-01",
                                    "Humana_Memebers": "305303"
                                },
                                {
                                    "Date": "2018-02-01",
                                    "Humana_Memebers": "303430"
                                },
                                {
                                    "Date": "2018-03-01",
                                    "Humana_Memebers": "299511"
                                },
                                {
                                    "Date": "2018-04-01",
                                    "Humana_Memebers": "297381"
                                },
                                {
                                    "Date": "2018-05-01",
                                    "Humana_Memebers": "289480"
                                },
                                {
                                    "Date": "2018-06-01",
                                    "Humana_Memebers": "294857"
                                },
                                {
                                    "Date": "2018-07-01",
                                    "Humana_Memebers": "294419"
                                },
                                {
                                    "Date": "2018-08-01",
                                    "Humana_Memebers": "294022"
                                },
                                {
                                    "Date": "2018-09-01",
                                    "Humana_Memebers": "292993"
                                },
                                {
                                    "Date": "2018-10-01",
                                    "Humana_Memebers": "293545"
                                },
                                {
                                    "Date": "2018-11-01",
                                    "Humana_Memebers": "290658"
                                },
                                {
                                    "Date": "2018-12-01",
                                    "Humana_Memebers": "307478"
                                },
                                {
                                    "Date": "2019-01-01",
                                    "Humana_Memebers": "362068"
                                },
                                {
                                    "Date": "2019-02-01",
                                    "Humana_Memebers": "428467"
                                },
                                {
                                    "Date": "2019-03-01",
                                    "Humana_Memebers": "428065"
                                },
                                {
                                    "Date": "2019-04-01",
                                    "Humana_Memebers": "429646"
                                },
                                {
                                    "Date": "2019-05-01",
                                    "Humana_Memebers": "429133"
                                },
                                {
                                    "Date": "2019-06-01",
                                    "Humana_Memebers": "430664"
                                },
                                {
                                    "Date": "2019-07-01",
                                    "Humana_Memebers": "432760"
                                },
                                {
                                    "Date": "2019-08-01",
                                    "Humana_Memebers": "433269"
                                },
                                {
                                    "Date": "2019-09-01",
                                    "Humana_Memebers": "432607"
                                },
                                {
                                    "Date": "2019-10-01",
                                    "Humana_Memebers": "433371"
                                },
                                {
                                    "Date": "2019-11-01",
                                    "Humana_Memebers": "432570"
                                },
                                {
                                    "Date": "2019-12-01",
                                    "Humana_Memebers": "433731"
                                },
                                {
                                    "Date": "2020-01-01",
                                    "Humana_Memebers": "433651"
                                },
                                {
                                    "Date": "2020-02-01",
                                    "Humana_Memebers": "436136"
                                },
                                {
                                    "Date": "2020-03-01",
                                    "Humana_Memebers": "436664"
                                },
                                {
                                    "Date": "2020-04-01",
                                    "Humana_Memebers": "463897"
                                },
                                {
                                    "Date": "2020-05-01",
                                    "Humana_Memebers": "486040"
                                },
                                {
                                    "Date": "2020-06-01",
                                    "Humana_Memebers": "499729"
                                },
                                {
                                    "Date": "2020-07-01",
                                    "Humana_Memebers": "510450"
                                },
                                {
                                    "Date": "2020-08-01",
                                    "Humana_Memebers": "523314"
                                },
                                {
                                    "Date": "2020-09-01",
                                    "Humana_Memebers": "533651"
                                },
                                {
                                    "Date": "2020-10-01",
                                    "Humana_Memebers": "545398"
                                },
                                {
                                    "Date": "2020-11-01",
                                    "Humana_Memebers": "555225"
                                },
                                {
                                    "Date": "2020-12-01",
                                    "Humana_Memebers": "567046"
                                },
                                {
                                    "Date": "2021-01-01",
                                    "Humana_Memebers": "574651"
                                },
                                {
                                    "Date": "2021-02-01",
                                    "Humana_Memebers": "584284"
                                },
                                {
                                    "Date": "2021-03-01",
                                    "Humana_Memebers": "597154"
                                },
                                {
                                    "Date": "2021-04-01",
                                    "Humana_Memebers": "603510"
                                },
                                {
                                    "Date": "2021-05-01",
                                    "Humana_Memebers": "612505"
                                },
                                {
                                    "Date": "2021-06-01",
                                    "Humana_Memebers": "622081"
                                },
                                {
                                    "Date": "2021-07-01",
                                    "Humana_Memebers": "625612"
                                },
                                {
                                    "Date": "2021-08-01",
                                    "Humana_Memebers": "635797"
                                },
                                {
                                    "Date": "2021-09-01",
                                    "Humana_Memebers": "647191"
                                },
                                {
                                    "Date": "2021-10-01",
                                    "Humana_Memebers": "656843"
                                },
                                {
                                    "Date": "2021-11-01",
                                    "Humana_Memebers": "663348"
                                },
                                {
                                    "Date": "2021-12-01",
                                    "Humana_Memebers": "669453"
                                },
                                {
                                    "Date": "2022-01-01",
                                    "Humana_Memebers": "674474"
                                },
                                {
                                    "Date": "2022-02-01",
                                    "Humana_Memebers": "680818"
                                },
                                {
                                    "Date": "2022-03-01",
                                    "Humana_Memebers": "690448"
                                },
                                {
                                    "Date": "2022-04-01",
                                    "Humana_Memebers": "702825"
                                },
                                {
                                    "Date": "2022-05-01",
                                    "Humana_Memebers": "715667"
                                },
                                {
                                    "Date": "2022-06-01",
                                    "Humana_Memebers": "729265"
                                },
                                {
                                    "Date": "2022-07-01",
                                    "Humana_Memebers": "742117"
                                },
                                {
                                    "Date": "2022-08-01",
                                    "Humana_Memebers": "757225"
                                },
                                {
                                    "Date": "2022-09-01",
                                    "Humana_Memebers": "768709"
                                },
                                {
                                    "Date": "2022-10-01",
                                    "Humana_Memebers": "780926"
                                },
                                {
                                    "Date": "2022-11-01",
                                    "Humana_Memebers": "791417"
                                },
                                {
                                    "Date": "2022-12-01",
                                    "Humana_Memebers": "798824"
                                },
                                {
                                    "Date": "2023-01-01",
                                    "Humana_Memebers": "805047"
                                },
                                {
                                    "Date": "2023-02-01",
                                    "Humana_Memebers": "809990"
                                },
                                {
                                    "Date": "2023-03-01",
                                    "Humana_Memebers": "813908"
                                },
                                {
                                    "Date": "2023-04-01",
                                    "Humana_Memebers": "818671"
                                },
                                {
                                    "Date": "2023-05-01",
                                    "Humana_Memebers": "776057"
                                }
                            ]
                        },
                        "text/html": [
                            "<table>",
                            "<tr><th>Date</th><th>Humana_Memebers</th></tr>",
                            "<tr><td>2014-05-01</td><td>0</td></tr>",
                            "<tr><td>2014-06-01</td><td>26167</td></tr>",
                            "<tr><td>2014-07-01</td><td>134989</td></tr>",
                            "<tr><td>2014-08-01</td><td>246972</td></tr>",
                            "<tr><td>2014-09-01</td><td>258071</td></tr>",
                            "<tr><td>2014-10-01</td><td>263750</td></tr>",
                            "<tr><td>2014-11-01</td><td>267984</td></tr>",
                            "<tr><td>2014-12-01</td><td>274574</td></tr>",
                            "<tr><td>2015-01-01</td><td>282381</td></tr>",
                            "<tr><td>2015-02-01</td><td>290969</td></tr>",
                            "<tr><td>2015-03-01</td><td>296431</td></tr>",
                            "<tr><td>2015-04-01</td><td>300527</td></tr>",
                            "<tr><td>2015-05-01</td><td>305430</td></tr>",
                            "<tr><td>2015-06-01</td><td>311539</td></tr>",
                            "<tr><td>2015-07-01</td><td>320534</td></tr>",
                            "<tr><td>2015-08-01</td><td>323178</td></tr>",
                            "<tr><td>2015-09-01</td><td>326089</td></tr>",
                            "<tr><td>2015-10-01</td><td>326457</td></tr>",
                            "<tr><td>2015-11-01</td><td>329516</td></tr>",
                            "<tr><td>2015-12-01</td><td>330904</td></tr>",
                            "<tr><td>2016-01-01</td><td>332040</td></tr>",
                            "<tr><td>2016-02-01</td><td>339720</td></tr>",
                            "<tr><td>2016-03-01</td><td>340717</td></tr>",
                            "<tr><td>2016-04-01</td><td>340321</td></tr>",
                            "<tr><td>2016-05-01</td><td>341775</td></tr>",
                            "<tr><td>2016-06-01</td><td>343728</td></tr>",
                            "<tr><td>2016-07-01</td><td>341638</td></tr>",
                            "<tr><td>2016-08-01</td><td>343232</td></tr>",
                            "<tr><td>2016-09-01</td><td>340893</td></tr>",
                            "<tr><td>2016-10-01</td><td>339418</td></tr>",
                            "<tr><td>2016-11-01</td><td>340113</td></tr>",
                            "<tr><td>2016-12-01</td><td>338314</td></tr>",
                            "<tr><td>2017-01-01</td><td>339140</td></tr>",
                            "<tr><td>2017-02-01</td><td>334943</td></tr>",
                            "<tr><td>2017-03-01</td><td>332565</td></tr>",
                            "<tr><td>2017-04-01</td><td>328297</td></tr>",
                            "<tr><td>2017-05-01</td><td>329104</td></tr>",
                            "<tr><td>2017-06-01</td><td>326907</td></tr>",
                            "<tr><td>2017-07-01</td><td>324243</td></tr>",
                            "<tr><td>2017-08-01</td><td>318780</td></tr>",
                            "<tr><td>2017-09-01</td><td>315529</td></tr>",
                            "<tr><td>2017-10-01</td><td>316541</td></tr>",
                            "<tr><td>2017-11-01</td><td>311177</td></tr>",
                            "<tr><td>2017-12-01</td><td>309549</td></tr>",
                            "<tr><td>2018-01-01</td><td>305303</td></tr>",
                            "<tr><td>2018-02-01</td><td>303430</td></tr>",
                            "<tr><td>2018-03-01</td><td>299511</td></tr>",
                            "<tr><td>2018-04-01</td><td>297381</td></tr>",
                            "<tr><td>2018-05-01</td><td>289480</td></tr>",
                            "<tr><td>2018-06-01</td><td>294857</td></tr>",
                            "<tr><td>2018-07-01</td><td>294419</td></tr>",
                            "<tr><td>2018-08-01</td><td>294022</td></tr>",
                            "<tr><td>2018-09-01</td><td>292993</td></tr>",
                            "<tr><td>2018-10-01</td><td>293545</td></tr>",
                            "<tr><td>2018-11-01</td><td>290658</td></tr>",
                            "<tr><td>2018-12-01</td><td>307478</td></tr>",
                            "<tr><td>2019-01-01</td><td>362068</td></tr>",
                            "<tr><td>2019-02-01</td><td>428467</td></tr>",
                            "<tr><td>2019-03-01</td><td>428065</td></tr>",
                            "<tr><td>2019-04-01</td><td>429646</td></tr>",
                            "<tr><td>2019-05-01</td><td>429133</td></tr>",
                            "<tr><td>2019-06-01</td><td>430664</td></tr>",
                            "<tr><td>2019-07-01</td><td>432760</td></tr>",
                            "<tr><td>2019-08-01</td><td>433269</td></tr>",
                            "<tr><td>2019-09-01</td><td>432607</td></tr>",
                            "<tr><td>2019-10-01</td><td>433371</td></tr>",
                            "<tr><td>2019-11-01</td><td>432570</td></tr>",
                            "<tr><td>2019-12-01</td><td>433731</td></tr>",
                            "<tr><td>2020-01-01</td><td>433651</td></tr>",
                            "<tr><td>2020-02-01</td><td>436136</td></tr>",
                            "<tr><td>2020-03-01</td><td>436664</td></tr>",
                            "<tr><td>2020-04-01</td><td>463897</td></tr>",
                            "<tr><td>2020-05-01</td><td>486040</td></tr>",
                            "<tr><td>2020-06-01</td><td>499729</td></tr>",
                            "<tr><td>2020-07-01</td><td>510450</td></tr>",
                            "<tr><td>2020-08-01</td><td>523314</td></tr>",
                            "<tr><td>2020-09-01</td><td>533651</td></tr>",
                            "<tr><td>2020-10-01</td><td>545398</td></tr>",
                            "<tr><td>2020-11-01</td><td>555225</td></tr>",
                            "<tr><td>2020-12-01</td><td>567046</td></tr>",
                            "<tr><td>2021-01-01</td><td>574651</td></tr>",
                            "<tr><td>2021-02-01</td><td>584284</td></tr>",
                            "<tr><td>2021-03-01</td><td>597154</td></tr>",
                            "<tr><td>2021-04-01</td><td>603510</td></tr>",
                            "<tr><td>2021-05-01</td><td>612505</td></tr>",
                            "<tr><td>2021-06-01</td><td>622081</td></tr>",
                            "<tr><td>2021-07-01</td><td>625612</td></tr>",
                            "<tr><td>2021-08-01</td><td>635797</td></tr>",
                            "<tr><td>2021-09-01</td><td>647191</td></tr>",
                            "<tr><td>2021-10-01</td><td>656843</td></tr>",
                            "<tr><td>2021-11-01</td><td>663348</td></tr>",
                            "<tr><td>2021-12-01</td><td>669453</td></tr>",
                            "<tr><td>2022-01-01</td><td>674474</td></tr>",
                            "<tr><td>2022-02-01</td><td>680818</td></tr>",
                            "<tr><td>2022-03-01</td><td>690448</td></tr>",
                            "<tr><td>2022-04-01</td><td>702825</td></tr>",
                            "<tr><td>2022-05-01</td><td>715667</td></tr>",
                            "<tr><td>2022-06-01</td><td>729265</td></tr>",
                            "<tr><td>2022-07-01</td><td>742117</td></tr>",
                            "<tr><td>2022-08-01</td><td>757225</td></tr>",
                            "<tr><td>2022-09-01</td><td>768709</td></tr>",
                            "<tr><td>2022-10-01</td><td>780926</td></tr>",
                            "<tr><td>2022-11-01</td><td>791417</td></tr>",
                            "<tr><td>2022-12-01</td><td>798824</td></tr>",
                            "<tr><td>2023-01-01</td><td>805047</td></tr>",
                            "<tr><td>2023-02-01</td><td>809990</td></tr>",
                            "<tr><td>2023-03-01</td><td>813908</td></tr>",
                            "<tr><td>2023-04-01</td><td>818671</td></tr>",
                            "<tr><td>2023-05-01</td><td>776057</td></tr>",
                            "</table>"
                        ]
                    }
                }
            ],
            "execution_count": 12
        },
        {
            "cell_type": "markdown",
            "source": [
                "# **Membership Market Share by Plan May 2023**"
            ],
            "metadata": {
                "azdata_cell_guid": "32ba460e-bc0c-4cd7-b3b1-b7728e7cd284"
            },
            "attachments": {}
        },
        {
            "cell_type": "code",
            "source": [
                "Select PLAN_NAME , member_count as Memebers from Membership where [date] = '2023-05-01' and member_count > 0 order by member_count"
            ],
            "metadata": {
                "azdata_cell_guid": "ddd0ffd5-4e1e-4fc3-9010-8665d5fcad08",
                "language": "sql"
            },
            "outputs": [
                {
                    "output_type": "display_data",
                    "data": {
                        "text/html": "(9 rows affected)"
                    },
                    "metadata": {}
                },
                {
                    "output_type": "display_data",
                    "data": {
                        "text/html": "Total execution time: 00:00:00.009"
                    },
                    "metadata": {}
                },
                {
                    "output_type": "execute_result",
                    "metadata": {
                        "azdata_chartOptions": {
                            "type": "pie",
                            "dataDirection": "vertical",
                            "columnsAsLabels": true,
                            "labelFirstColumn": false,
                            "legendPosition": "top"
                        }
                    },
                    "execution_count": 23,
                    "data": {
                        "application/vnd.dataresource+json": {
                            "schema": {
                                "fields": [
                                    {
                                        "name": "PLAN_NAME"
                                    },
                                    {
                                        "name": "Memebers"
                                    }
                                ]
                            },
                            "data": [
                                {
                                    "PLAN_NAME": "FLORIDA COMMUNITY CARE",
                                    "Memebers": "16880"
                                },
                                {
                                    "PLAN_NAME": "COMMUNITY CARE PLAN",
                                    "Memebers": "60111"
                                },
                                {
                                    "PLAN_NAME": "AMERIHEALTH CARITAS FLORIDA",
                                    "Memebers": "124281"
                                },
                                {
                                    "PLAN_NAME": "MOLINA HEALTHCARE OF FLORIDA",
                                    "Memebers": "140749"
                                },
                                {
                                    "PLAN_NAME": "AETNA BETTER HEALTH",
                                    "Memebers": "200910"
                                },
                                {
                                    "PLAN_NAME": "UNITED HEALTHCARE OF FLORIDA",
                                    "Memebers": "391268"
                                },
                                {
                                    "PLAN_NAME": "SIMPLY HEALTHCARE PLANS INC.",
                                    "Memebers": "771547"
                                },
                                {
                                    "PLAN_NAME": "HUMANA MEDICAL PLAN",
                                    "Memebers": "776057"
                                },
                                {
                                    "PLAN_NAME": "SUNSHINE STATE HEALTH PLAN INC.",
                                    "Memebers": "1490488"
                                }
                            ]
                        },
                        "text/html": [
                            "<table>",
                            "<tr><th>PLAN_NAME</th><th>Memebers</th></tr>",
                            "<tr><td>FLORIDA COMMUNITY CARE</td><td>16880</td></tr>",
                            "<tr><td>COMMUNITY CARE PLAN</td><td>60111</td></tr>",
                            "<tr><td>AMERIHEALTH CARITAS FLORIDA</td><td>124281</td></tr>",
                            "<tr><td>MOLINA HEALTHCARE OF FLORIDA</td><td>140749</td></tr>",
                            "<tr><td>AETNA BETTER HEALTH</td><td>200910</td></tr>",
                            "<tr><td>UNITED HEALTHCARE OF FLORIDA</td><td>391268</td></tr>",
                            "<tr><td>SIMPLY HEALTHCARE PLANS INC.</td><td>771547</td></tr>",
                            "<tr><td>HUMANA MEDICAL PLAN</td><td>776057</td></tr>",
                            "<tr><td>SUNSHINE STATE HEALTH PLAN INC.</td><td>1490488</td></tr>",
                            "</table>"
                        ]
                    }
                }
            ],
            "execution_count": 23
        }
    ]
}